{
  "nbformat": 4,
  "nbformat_minor": 0,
  "metadata": {
    "colab": {
      "provenance": [],
      "authorship_tag": "ABX9TyNOFFdz1Gys8P7eNmsDe92r",
      "include_colab_link": true
    },
    "kernelspec": {
      "name": "python3",
      "display_name": "Python 3"
    },
    "language_info": {
      "name": "python"
    }
  },
  "cells": [
    {
      "cell_type": "markdown",
      "metadata": {
        "id": "view-in-github",
        "colab_type": "text"
      },
      "source": [
        "<a href=\"https://colab.research.google.com/github/humayun-mhk/Scikit-learn/blob/main/(2)%20Decision%20Trees%20in%20Scikit-Learn.ipynb\" target=\"_parent\"><img src=\"https://colab.research.google.com/assets/colab-badge.svg\" alt=\"Open In Colab\"/></a>"
      ]
    },
    {
      "cell_type": "code",
      "execution_count": null,
      "metadata": {
        "id": "Q-GznD7OELjS"
      },
      "outputs": [],
      "source": [
        "import pandas as pd\n",
        "import numpy as np\n",
        "from sklearn import preprocessing\n",
        "from sklearn.model_selection import train_test_split\n",
        "from sklearn.tree import DecisionTreeClassifier\n",
        "from sklearn.metrics import accuracy_score\n",
        "\n",
        "# Step 1: Load the dataset\n",
        "url = \"https://cf-courses-data.s3.us.cloud-object-storage.appdomain.cloud/IBMDeveloperSkillsNetwork-ML0101EN-SkillsNetwork/labs/Module%203/data/drug200.csv\"\n",
        "my_data = pd.read_csv(url)\n",
        "\n",
        "# Step 2: Select features (X) and target variable (y)\n",
        "X = my_data[['Age', 'Sex', 'BP', 'Cholesterol', 'Na_to_K']].values\n",
        "y = my_data[\"Drug\"].values  # Convert to NumPy array for model training\n",
        "\n",
        "# Step 3: Encode categorical variables\n",
        "le_sex = preprocessing.LabelEncoder()\n",
        "X[:, 1] = le_sex.fit_transform(X[:, 1])  # Encode 'Sex' column\n",
        "\n",
        "le_BP = preprocessing.LabelEncoder()\n",
        "X[:, 2] = le_BP.fit_transform(X[:, 2])  # Encode 'BP' column\n",
        "\n",
        "le_Chol = preprocessing.LabelEncoder()\n",
        "X[:, 3] = le_Chol.fit_transform(X[:, 3])  # Encode 'Cholesterol' column\n",
        "\n",
        "# Step 4: Split the dataset into training and test sets\n",
        "X_train, X_test, y_train, y_test = train_test_split(X, y, test_size=0.3, random_state=3)\n",
        "\n",
        "# Step 5: Train the Decision Tree Model\n",
        "drugTree = DecisionTreeClassifier(criterion=\"entropy\", max_depth=4)\n",
        "drugTree.fit(X_train, y_train)\n",
        "\n",
        "# Step 6: Make Predictions\n",
        "y_pred = drugTree.predict(X_test)\n",
        "\n",
        "# Step 7: Evaluate Model Performance\n",
        "accuracy = accuracy_score(y_test, y_pred)\n",
        "print(f\"Model Accuracy: {accuracy:.2f}\")\n"
      ]
    }
  ]
}