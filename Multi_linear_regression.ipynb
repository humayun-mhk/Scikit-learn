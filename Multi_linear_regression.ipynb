{
  "nbformat": 4,
  "nbformat_minor": 0,
  "metadata": {
    "colab": {
      "provenance": [],
      "authorship_tag": "ABX9TyNIhtnGypEFsqZAk4FevBj9",
      "include_colab_link": true
    },
    "kernelspec": {
      "name": "python3",
      "display_name": "Python 3"
    },
    "language_info": {
      "name": "python"
    }
  },
  "cells": [
    {
      "cell_type": "markdown",
      "metadata": {
        "id": "view-in-github",
        "colab_type": "text"
      },
      "source": [
        "<a href=\"https://colab.research.google.com/github/humayun-mhk/Scikit-learn/blob/main/Multi_linear_regression.ipynb\" target=\"_parent\"><img src=\"https://colab.research.google.com/assets/colab-badge.svg\" alt=\"Open In Colab\"/></a>"
      ]
    },
    {
      "cell_type": "code",
      "source": [],
      "metadata": {
        "id": "xX0G137NPRYN"
      },
      "execution_count": null,
      "outputs": []
    },
    {
      "cell_type": "code",
      "execution_count": 15,
      "metadata": {
        "id": "f5zDUOdFMbXJ"
      },
      "outputs": [],
      "source": [
        "# Multi linear regression\n",
        "import pandas as pd\n",
        "from sklearn import linear_model\n",
        "from sklearn.datasets import load_iris\n",
        "iris = load_iris()\n",
        "df = pd.DataFrame(data = iris.data, columns = iris.feature_names)"
      ]
    },
    {
      "cell_type": "code",
      "source": [
        "y= df[\"petal width (cm)\"]\n",
        "x = df[[\"sepal length (cm)\",\"petal length (cm)\"]]\n",
        "regr = linear_model.LinearRegression()\n",
        "regr.fit(x,y)\n",
        "print(regr.coef_)"
      ],
      "metadata": {
        "colab": {
          "base_uri": "https://localhost:8080/"
        },
        "collapsed": true,
        "id": "gw0ZD5RgNMx9",
        "outputId": "9aadd3e3-9aa9-4f93-bfb2-0117c519fc15"
      },
      "execution_count": 17,
      "outputs": [
        {
          "output_type": "stream",
          "name": "stdout",
          "text": [
            "[-0.08221782  0.44937611]\n"
          ]
        }
      ]
    },
    {
      "cell_type": "code",
      "source": [
        "prediction = regr.predict([[2.5,7]])\n",
        "print(prediction)\n",
        "\n",
        "def calc1(slop1, slop2, intercept, x1,x2):\n",
        "  return slop1*x1 + slop2*x2 + intercept;\n",
        "\n",
        "pred = calc1(regr.coef_[0],regr.coef_[1],regr.intercept_,2.5,7)\n",
        "print(pred)"
      ],
      "metadata": {
        "colab": {
          "base_uri": "https://localhost:8080/"
        },
        "id": "dAjzPLNbP_oq",
        "outputId": "9ab40ffb-6ac5-48cb-e3a2-01383654e3a9"
      },
      "execution_count": 24,
      "outputs": [
        {
          "output_type": "stream",
          "name": "stdout",
          "text": [
            "[2.93109228]\n",
            "2.93109227947756\n"
          ]
        },
        {
          "output_type": "stream",
          "name": "stderr",
          "text": [
            "/usr/local/lib/python3.11/dist-packages/sklearn/utils/validation.py:2739: UserWarning: X does not have valid feature names, but LinearRegression was fitted with feature names\n",
            "  warnings.warn(\n"
          ]
        }
      ]
    }
  ]
}