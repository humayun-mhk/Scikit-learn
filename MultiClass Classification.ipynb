{
  "nbformat": 4,
  "nbformat_minor": 0,
  "metadata": {
    "colab": {
      "provenance": [],
      "authorship_tag": "ABX9TyOPgCrCX5MVH/KftK5h6Bzq",
      "include_colab_link": true
    },
    "kernelspec": {
      "name": "python3",
      "display_name": "Python 3"
    },
    "language_info": {
      "name": "python"
    }
  },
  "cells": [
    {
      "cell_type": "markdown",
      "metadata": {
        "id": "view-in-github",
        "colab_type": "text"
      },
      "source": [
        "<a href=\"https://colab.research.google.com/github/humayun-mhk/Scikit-learn/blob/main/MultiClass%20Classification.ipynb\" target=\"_parent\"><img src=\"https://colab.research.google.com/assets/colab-badge.svg\" alt=\"Open In Colab\"/></a>"
      ]
    },
    {
      "cell_type": "markdown",
      "source": [
        "SVM"
      ],
      "metadata": {
        "id": "PYq5Q8F0bM-H"
      }
    },
    {
      "cell_type": "code",
      "execution_count": 1,
      "metadata": {
        "colab": {
          "base_uri": "https://localhost:8080/"
        },
        "id": "LCIbBDk_bIqb",
        "outputId": "d696b40b-48e3-4dc9-bdf1-0a704295999d"
      },
      "outputs": [
        {
          "output_type": "stream",
          "name": "stdout",
          "text": [
            "Train set: (559, 2) (559,)\n",
            "Test set: (140, 2) (140,)\n",
            "F1 Score (Weighted): 0.31542518646802986\n",
            "Jaccard Index (Macro): 0.18792615679693117\n",
            "Confusion Matrix:\n",
            " [[16 30  2]\n",
            " [19 25  4]\n",
            " [19 19  6]]\n",
            "Classification Report:\n",
            "               precision    recall  f1-score   support\n",
            "\n",
            "           0       0.30      0.33      0.31        48\n",
            "           1       0.34      0.52      0.41        48\n",
            "           2       0.50      0.14      0.21        44\n",
            "\n",
            "    accuracy                           0.34       140\n",
            "   macro avg       0.38      0.33      0.31       140\n",
            "weighted avg       0.37      0.34      0.32       140\n",
            "\n"
          ]
        }
      ],
      "source": [
        "import pandas as pd\n",
        "import numpy as np\n",
        "from sklearn.model_selection import train_test_split\n",
        "from sklearn import svm\n",
        "from sklearn.metrics import f1_score, jaccard_score, confusion_matrix, classification_report\n",
        "\n",
        "# Step 1: Load the dataset\n",
        "path = \"https://cf-courses-data.s3.us.cloud-object-storage.appdomain.cloud/IBMDeveloperSkillsNetwork-ML0101EN-SkillsNetwork/labs/Module%203/data/cell_samples.csv\"\n",
        "df = pd.read_csv(path)\n",
        "data = pd.DataFrame(df)\n",
        "\n",
        "# Step 2: Simulate a multiclass problem\n",
        "np.random.seed(4)\n",
        "data['Class'] = np.random.randint(0, 3, size=len(data))  # Randomly assign classes 0, 1, 2\n",
        "\n",
        "# Step 3: Prepare the data\n",
        "X = data[['Clump', 'UnifSize']]  # Features\n",
        "y = data['Class']  # Target (multiclass)\n",
        "X_train, X_test, y_train, y_test = train_test_split(X, y, test_size=0.2, random_state=4)\n",
        "\n",
        "print('Train set:', X_train.shape, y_train.shape)\n",
        "print('Test set:', X_test.shape, y_test.shape)\n",
        "\n",
        "# Step 4: Train an SVM model\n",
        "clf = svm.SVC(kernel='rbf')\n",
        "clf.fit(X_train, y_train)\n",
        "\n",
        "# Step 5: Make predictions\n",
        "yhat = clf.predict(X_test)\n",
        "\n",
        "# Step 6: Evaluate the model\n",
        "f1 = f1_score(y_test, yhat, average='weighted')\n",
        "print('F1 Score (Weighted):', f1)\n",
        "\n",
        "jaccard = jaccard_score(y_test, yhat, average='macro')\n",
        "print('Jaccard Index (Macro):', jaccard)\n",
        "\n",
        "conf_matrix = confusion_matrix(y_test, yhat)\n",
        "print('Confusion Matrix:\\n', conf_matrix)\n",
        "\n",
        "class_report = classification_report(y_test, yhat)\n",
        "print('Classification Report:\\n', class_report)"
      ]
    }
  ]
}