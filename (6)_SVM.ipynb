{
  "nbformat": 4,
  "nbformat_minor": 0,
  "metadata": {
    "colab": {
      "provenance": [],
      "authorship_tag": "ABX9TyMoUZBjb9YjAqSyQNdQmnsW",
      "include_colab_link": true
    },
    "kernelspec": {
      "name": "python3",
      "display_name": "Python 3"
    },
    "language_info": {
      "name": "python"
    }
  },
  "cells": [
    {
      "cell_type": "markdown",
      "metadata": {
        "id": "view-in-github",
        "colab_type": "text"
      },
      "source": [
        "<a href=\"https://colab.research.google.com/github/humayun-mhk/Scikit-learn/blob/main/(6)_SVM.ipynb\" target=\"_parent\"><img src=\"https://colab.research.google.com/assets/colab-badge.svg\" alt=\"Open In Colab\"/></a>"
      ]
    },
    {
      "cell_type": "markdown",
      "source": [
        "SVM"
      ],
      "metadata": {
        "id": "PYq5Q8F0bM-H"
      }
    },
    {
      "cell_type": "code",
      "execution_count": null,
      "metadata": {
        "id": "LCIbBDk_bIqb"
      },
      "outputs": [],
      "source": [
        "import pandas as pd\n",
        "import numpy as np\n",
        "from sklearn.model_selection import train_test_split\n",
        "import matplotlib.pyplot as plt\n",
        "from sklearn import svm\n",
        "from sklearn.metrics import f1_score, jaccard_score\n",
        "\n",
        "# Step 1: Load the dataset\n",
        "path = \"https://cf-courses-data.s3.us.cloud-object-storage.appdomain.cloud/IBMDeveloperSkillsNetwork-ML0101EN-SkillsNetwork/labs/Module%203/data/cell_samples.csv\"\n",
        "df = pd.read_csv(path)\n",
        "data = pd.DataFrame(df)\n",
        "\n",
        "# Step 2: Visualize the data (optional)\n",
        "ax = data[data['Class'] == 4][0:50].plot(kind='scatter', x='Clump', y='UnifSize', color='DarkBlue', label='malignant')\n",
        "data[data['Class'] == 2][0:50].plot(kind='scatter', x='Clump', y='UnifSize', color='Yellow', label='benign', ax=ax)\n",
        "plt.show()\n",
        "\n",
        "# Step 3: Prepare the data\n",
        "X = data[['Clump', 'UnifSize']]  # Features\n",
        "y = data['Class']  # Target\n",
        "X_train, X_test, y_train, y_test = train_test_split(X, y, test_size=0.2, random_state=4)\n",
        "print('Train set:', X_train.shape, y_train.shape)\n",
        "print('Test set:', X_test.shape, y_test.shape)\n",
        "\n",
        "# Step 4: Train an SVM model\n",
        "clf = svm.SVC(kernel='rbf')\n",
        "clf.fit(X_train, y_train)\n",
        "\n",
        "# Step 5: Make predictions\n",
        "yhat = clf.predict(X_test)\n",
        "\n",
        "# Step 6: Evaluate the model\n",
        "f1 = f1_score(y_test, yhat, average='weighted')\n",
        "print('F1 Score (Weighted):', f1)\n",
        "\n",
        "jaccard = jaccard_score(y_test, yhat, pos_label=2)\n",
        "print('Jaccard Index (Benign Class):', jaccard)"
      ]
    }
  ]
}