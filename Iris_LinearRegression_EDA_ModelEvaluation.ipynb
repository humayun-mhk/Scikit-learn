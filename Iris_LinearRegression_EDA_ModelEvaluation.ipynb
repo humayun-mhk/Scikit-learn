{
  "nbformat": 4,
  "nbformat_minor": 0,
  "metadata": {
    "colab": {
      "provenance": [],
      "authorship_tag": "ABX9TyM9ldr+zf+V3JixlSKK8lWT",
      "include_colab_link": true
    },
    "kernelspec": {
      "name": "python3",
      "display_name": "Python 3"
    },
    "language_info": {
      "name": "python"
    }
  },
  "cells": [
    {
      "cell_type": "markdown",
      "metadata": {
        "id": "view-in-github",
        "colab_type": "text"
      },
      "source": [
        "<a href=\"https://colab.research.google.com/github/humayun-mhk/Scikit-learn/blob/main/Iris_LinearRegression_EDA_ModelEvaluation.ipynb\" target=\"_parent\"><img src=\"https://colab.research.google.com/assets/colab-badge.svg\" alt=\"Open In Colab\"/></a>"
      ]
    },
    {
      "cell_type": "code",
      "execution_count": 5,
      "metadata": {
        "colab": {
          "base_uri": "https://localhost:8080/"
        },
        "id": "j5bmuBQ6cucY",
        "outputId": "4c391eed-6a3c-47e7-bb25-0ac1e12ef095"
      },
      "outputs": [
        {
          "output_type": "stream",
          "name": "stdout",
          "text": [
            "colums names  ['sepal length (cm)', 'sepal width (cm)', 'petal length (cm)', 'petal width (cm)']\n",
            "Target nmes  ['setosa' 'versicolor' 'virginica']\n",
            "First ten data is \n",
            " [[5.1 3.5 1.4 0.2]\n",
            " [4.9 3.  1.4 0.2]\n",
            " [4.7 3.2 1.3 0.2]\n",
            " [4.6 3.1 1.5 0.2]\n",
            " [5.  3.6 1.4 0.2]\n",
            " [5.4 3.9 1.7 0.4]\n",
            " [4.6 3.4 1.4 0.3]\n",
            " [5.  3.4 1.5 0.2]\n",
            " [4.4 2.9 1.4 0.2]\n",
            " [4.9 3.1 1.5 0.1]]\n"
          ]
        }
      ],
      "source": [
        "from sklearn.datasets import load_iris\n",
        "iris = load_iris()\n",
        "x = iris.data\n",
        "column_names = iris.feature_names\n",
        "target_names = iris.target_names\n",
        "print(\"colums names \", column_names)\n",
        "print(\"Target nmes \", target_names)\n",
        "print(\"First ten data is \\n\", x[0:10])"
      ]
    },
    {
      "cell_type": "code",
      "source": [
        "import pandas as pd\n",
        "from sklearn.datasets import load_iris\n",
        "iris = load_iris()\n",
        "df = pd.DataFrame( data  = iris.data, columns = iris.feature_names)"
      ],
      "metadata": {
        "id": "CYVyVlF7nR3B"
      },
      "execution_count": 14,
      "outputs": []
    },
    {
      "cell_type": "code",
      "source": [
        "#Exploratory Data Analysis (EDA)\n",
        "df.head()\n",
        "df.shape\n",
        "df.plot.scatter( x = 'petal length (cm)', y = 'petal width (cm)', title = \"Scatterplot\")\n",
        "print(df.corr())\n",
        "print(df.describe())"
      ],
      "metadata": {
        "colab": {
          "base_uri": "https://localhost:8080/",
          "height": 993
        },
        "id": "GW1ZXv57rAQe",
        "outputId": "f3a7e940-498d-475c-b575-c461fa62ca52"
      },
      "execution_count": 16,
      "outputs": [
        {
          "output_type": "stream",
          "name": "stdout",
          "text": [
            "                   sepal length (cm)  sepal width (cm)  petal length (cm)  \\\n",
            "sepal length (cm)           1.000000         -0.117570           0.871754   \n",
            "sepal width (cm)           -0.117570          1.000000          -0.428440   \n",
            "petal length (cm)           0.871754         -0.428440           1.000000   \n",
            "petal width (cm)            0.817941         -0.366126           0.962865   \n",
            "\n",
            "                   petal width (cm)  \n",
            "sepal length (cm)          0.817941  \n",
            "sepal width (cm)          -0.366126  \n",
            "petal length (cm)          0.962865  \n",
            "petal width (cm)           1.000000  \n",
            "       sepal length (cm)  sepal width (cm)  petal length (cm)  \\\n",
            "count         150.000000        150.000000         150.000000   \n",
            "mean            5.843333          3.057333           3.758000   \n",
            "std             0.828066          0.435866           1.765298   \n",
            "min             4.300000          2.000000           1.000000   \n",
            "25%             5.100000          2.800000           1.600000   \n",
            "50%             5.800000          3.000000           4.350000   \n",
            "75%             6.400000          3.300000           5.100000   \n",
            "max             7.900000          4.400000           6.900000   \n",
            "\n",
            "       petal width (cm)  \n",
            "count        150.000000  \n",
            "mean           1.199333  \n",
            "std            0.762238  \n",
            "min            0.100000  \n",
            "25%            0.300000  \n",
            "50%            1.300000  \n",
            "75%            1.800000  \n",
            "max            2.500000  \n"
          ]
        },
        {
          "output_type": "display_data",
          "data": {
            "text/plain": [
              "<Figure size 640x480 with 1 Axes>"
            ],
            "image/png": "[encoded data removed]"
          },
          "metadata": {}
        }
      ]
    },
    {
      "cell_type": "code",
      "source": [
        "#Pre processing\n",
        "from sklearn.model_selection import train_test_split\n",
        "x = df[\"petal width (cm)\"].values.reshape(-1,1)\n",
        "y = df[\"petal length (cm)\"].values.reshape(-1,1)\n",
        "x_train, x_test, y_train, y_test = train_test_split(x,y, test_size = 0.2)\n",
        "print(x_train)\n",
        "print(y_train)\n"
      ],
      "metadata": {
        "colab": {
          "base_uri": "https://localhost:8080/"
        },
        "id": "rt3kglaWsMzm",
        "outputId": "20190a00-9db9-42db-efac-61542f001d3e"
      },
      "execution_count": 19,
      "outputs": [
        {
          "output_type": "stream",
          "name": "stdout",
          "text": [
            "[[1.4]\n",
            " [0.4]\n",
            " [0.2]\n",
            " [0.2]\n",
            " [1.5]\n",
            " [2.1]\n",
            " [1.3]\n",
            " [1.6]\n",
            " [1.9]\n",
            " [0.2]\n",
            " [1.4]\n",
            " [1.5]\n",
            " [2.4]\n",
            " [0.2]\n",
            " [2.2]\n",
            " [0.2]\n",
            " [1.4]\n",
            " [1.5]\n",
            " [0.2]\n",
            " [0.4]\n",
            " [1.8]\n",
            " [0.2]\n",
            " [2.4]\n",
            " [2. ]\n",
            " [1.1]\n",
            " [0.2]\n",
            " [0.2]\n",
            " [1. ]\n",
            " [1.8]\n",
            " [1.3]\n",
            " [2.3]\n",
            " [0.1]\n",
            " [0.1]\n",
            " [0.4]\n",
            " [1.3]\n",
            " [1.3]\n",
            " [1.5]\n",
            " [2.1]\n",
            " [0.2]\n",
            " [2.5]\n",
            " [0.2]\n",
            " [0.2]\n",
            " [1.5]\n",
            " [1.3]\n",
            " [1.4]\n",
            " [0.2]\n",
            " [0.2]\n",
            " [2. ]\n",
            " [1.2]\n",
            " [2.5]\n",
            " [1.3]\n",
            " [1.6]\n",
            " [0.3]\n",
            " [2. ]\n",
            " [1.5]\n",
            " [0.2]\n",
            " [1.4]\n",
            " [0.1]\n",
            " [0.4]\n",
            " [1.6]\n",
            " [0.2]\n",
            " [1.8]\n",
            " [1.8]\n",
            " [0.2]\n",
            " [0.2]\n",
            " [1.8]\n",
            " [2.1]\n",
            " [1.8]\n",
            " [0.2]\n",
            " [1.9]\n",
            " [1.5]\n",
            " [0.6]\n",
            " [1.5]\n",
            " [1.2]\n",
            " [1. ]\n",
            " [0.4]\n",
            " [0.1]\n",
            " [1.8]\n",
            " [1.3]\n",
            " [0.2]\n",
            " [1.5]\n",
            " [1.3]\n",
            " [0.3]\n",
            " [1.6]\n",
            " [2.5]\n",
            " [1.3]\n",
            " [0.2]\n",
            " [0.2]\n",
            " [1. ]\n",
            " [2. ]\n",
            " [1.5]\n",
            " [2.3]\n",
            " [0.2]\n",
            " [2.1]\n",
            " [1.5]\n",
            " [1.2]\n",
            " [0.1]\n",
            " [1.3]\n",
            " [1.5]\n",
            " [1.1]\n",
            " [1.9]\n",
            " [2.4]\n",
            " [2.2]\n",
            " [0.2]\n",
            " [1.4]\n",
            " [1.3]\n",
            " [1.8]\n",
            " [1.4]\n",
            " [0.2]\n",
            " [1.8]\n",
            " [0.3]\n",
            " [1.1]\n",
            " [0.2]\n",
            " [2.1]\n",
            " [1.8]\n",
            " [1.9]\n",
            " [1.9]\n",
            " [1.3]\n",
            " [2.3]\n",
            " [1.8]]\n",
            "[[4.7]\n",
            " [1.6]\n",
            " [1.4]\n",
            " [1.6]\n",
            " [4.5]\n",
            " [5.9]\n",
            " [4.1]\n",
            " [4.7]\n",
            " [5.1]\n",
            " [1.3]\n",
            " [4.4]\n",
            " [4.2]\n",
            " [5.6]\n",
            " [1.2]\n",
            " [5.8]\n",
            " [1.3]\n",
            " [4.6]\n",
            " [5. ]\n",
            " [1.6]\n",
            " [1.3]\n",
            " [5.6]\n",
            " [1.4]\n",
            " [5.6]\n",
            " [6.7]\n",
            " [3. ]\n",
            " [1.5]\n",
            " [1.9]\n",
            " [3.3]\n",
            " [5.5]\n",
            " [4.2]\n",
            " [5.1]\n",
            " [1.1]\n",
            " [1.5]\n",
            " [1.7]\n",
            " [3.6]\n",
            " [4. ]\n",
            " [4.9]\n",
            " [5.7]\n",
            " [1.4]\n",
            " [5.7]\n",
            " [1. ]\n",
            " [1.5]\n",
            " [4.6]\n",
            " [4.5]\n",
            " [4.8]\n",
            " [1.5]\n",
            " [1.5]\n",
            " [4.9]\n",
            " [3.9]\n",
            " [6.1]\n",
            " [4.4]\n",
            " [4.5]\n",
            " [1.3]\n",
            " [6.4]\n",
            " [5.1]\n",
            " [1.3]\n",
            " [3.9]\n",
            " [1.4]\n",
            " [1.5]\n",
            " [5.8]\n",
            " [1.5]\n",
            " [4.8]\n",
            " [6. ]\n",
            " [1.4]\n",
            " [1.7]\n",
            " [5.8]\n",
            " [5.6]\n",
            " [5.5]\n",
            " [1.6]\n",
            " [5. ]\n",
            " [4.9]\n",
            " [1.6]\n",
            " [4.5]\n",
            " [4. ]\n",
            " [4. ]\n",
            " [1.9]\n",
            " [1.4]\n",
            " [4.8]\n",
            " [4.3]\n",
            " [1.6]\n",
            " [4.5]\n",
            " [4.2]\n",
            " [1.4]\n",
            " [5.1]\n",
            " [6. ]\n",
            " [4.6]\n",
            " [1.3]\n",
            " [1.4]\n",
            " [3.5]\n",
            " [5. ]\n",
            " [4.5]\n",
            " [5.9]\n",
            " [1.4]\n",
            " [5.4]\n",
            " [4.7]\n",
            " [4.7]\n",
            " [1.5]\n",
            " [4.1]\n",
            " [4.5]\n",
            " [3.8]\n",
            " [6.1]\n",
            " [5.1]\n",
            " [5.6]\n",
            " [1.4]\n",
            " [4.4]\n",
            " [4. ]\n",
            " [4.8]\n",
            " [4.7]\n",
            " [1.5]\n",
            " [6.3]\n",
            " [1.4]\n",
            " [3.9]\n",
            " [1.2]\n",
            " [6.6]\n",
            " [5.1]\n",
            " [5.1]\n",
            " [5.3]\n",
            " [4.3]\n",
            " [6.9]\n",
            " [4.9]]\n"
          ]
        }
      ]
    },
    {
      "cell_type": "code",
      "source": [
        "#train the model\n",
        "from sklearn.linear_model import LinearRegression\n",
        "regression = LinearRegression()\n",
        "regression.fit(x_train,y_train)\n",
        "print(regression.intercept_)\n",
        "print(regression.coef_)"
      ],
      "metadata": {
        "colab": {
          "base_uri": "https://localhost:8080/"
        },
        "id": "hUuIjwqKwo24",
        "outputId": "ca03a003-7f09-4622-8e10-3f6bdbe14a33"
      },
      "execution_count": 23,
      "outputs": [
        {
          "output_type": "stream",
          "name": "stdout",
          "text": [
            "[1.07476595]\n",
            "[[2.25808049]]\n"
          ]
        }
      ]
    },
    {
      "cell_type": "code",
      "source": [
        "score = regression.predict([[7.5]])\n",
        "print(score)"
      ],
      "metadata": {
        "colab": {
          "base_uri": "https://localhost:8080/"
        },
        "id": "5GMlzNeAyS8i",
        "outputId": "22ee1722-8ff7-45eb-cf8d-a522379b14b8"
      },
      "execution_count": 25,
      "outputs": [
        {
          "output_type": "stream",
          "name": "stdout",
          "text": [
            "[[18.01036961]]\n"
          ]
        }
      ]
    },
    {
      "cell_type": "code",
      "source": [
        "def calc(slope,intercept,value):\n",
        "  return slope*value + intercept;\n",
        "\n",
        "score = calc(regression.coef_,regression.intercept_,7.5)\n",
        "print(score)"
      ],
      "metadata": {
        "colab": {
          "base_uri": "https://localhost:8080/"
        },
        "id": "aYExyNA_zIUY",
        "outputId": "1153d560-cbcb-412c-989a-803e587edb00"
      },
      "execution_count": 26,
      "outputs": [
        {
          "output_type": "stream",
          "name": "stdout",
          "text": [
            "[[18.01036961]]\n"
          ]
        }
      ]
    },
    {
      "cell_type": "code",
      "source": [
        "y_pred = regression.predict(x_test)\n",
        "df_pred = pd.DataFrame({\"Actual\": y_test.squeeze(), \"prediction\": y_pred.squeeze()})\n",
        "print(df_pred)"
      ],
      "metadata": {
        "colab": {
          "base_uri": "https://localhost:8080/"
        },
        "id": "Dun0OPxZ1HFN",
        "outputId": "10fb4d1e-2dc0-4d9c-b4de-320261641192"
      },
      "execution_count": 30,
      "outputs": [
        {
          "output_type": "stream",
          "name": "stdout",
          "text": [
            "    Actual  prediction\n",
            "0      1.4    1.526382\n",
            "1      5.6    4.236079\n",
            "2      4.0    4.010271\n",
            "3      3.7    3.332846\n",
            "4      5.1    5.590927\n",
            "5      5.7    6.268351\n",
            "6      6.7    6.042543\n",
            "7      5.2    6.268351\n",
            "8      1.5    1.752190\n",
            "9      4.5    4.913503\n",
            "10     5.3    6.268351\n",
            "11     1.6    1.526382\n",
            "12     1.7    2.203806\n",
            "13     4.1    3.332846\n",
            "14     5.4    6.268351\n",
            "15     1.5    1.526382\n",
            "16     5.0    4.913503\n",
            "17     4.2    3.784463\n",
            "18     1.3    1.752190\n",
            "19     3.3    3.332846\n",
            "20     5.2    5.590927\n",
            "21     4.4    3.784463\n",
            "22     5.5    5.816735\n",
            "23     1.5    1.977998\n",
            "24     6.1    6.268351\n",
            "25     1.4    1.752190\n",
            "26     1.7    1.752190\n",
            "27     4.9    5.139311\n",
            "28     3.5    3.332846\n",
            "29     1.5    1.977998\n"
          ]
        }
      ]
    },
    {
      "cell_type": "code",
      "source": [
        "# Evaluating the model\n",
        "from sklearn.metrics import mean_absolute_error,mean_squared_error\n",
        "import numpy as np\n",
        "mae = mean_absolute_error(y_test,y_pred)\n",
        "mse = mean_squared_error(y_test,y_pred)\n",
        "rmse = np.sqrt(mse);\n",
        "print(mae)\n",
        "print(mse)\n",
        "print(rmse)"
      ],
      "metadata": {
        "colab": {
          "base_uri": "https://localhost:8080/"
        },
        "id": "3DG82wo82nsy",
        "outputId": "8aff8c36-fcfb-4fe4-beb6-02f79ba198a1"
      },
      "execution_count": 32,
      "outputs": [
        {
          "output_type": "stream",
          "name": "stdout",
          "text": [
            "0.4257210316845745\n",
            "0.2879539030855664\n",
            "0.5366133646169897\n"
          ]
        }
      ]
    }
  ]
}