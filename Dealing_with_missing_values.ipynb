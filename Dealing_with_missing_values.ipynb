{
  "nbformat": 4,
  "nbformat_minor": 0,
  "metadata": {
    "colab": {
      "provenance": [],
      "authorship_tag": "ABX9TyN0iZOv34Dj25xpTygZoNPf",
      "include_colab_link": true
    },
    "kernelspec": {
      "name": "python3",
      "display_name": "Python 3"
    },
    "language_info": {
      "name": "python"
    }
  },
  "cells": [
    {
      "cell_type": "markdown",
      "metadata": {
        "id": "view-in-github",
        "colab_type": "text"
      },
      "source": [
        "<a href=\"https://colab.research.google.com/github/humayun-mhk/Scikit-learn/blob/main/Dealing_with_missing_values.ipynb\" target=\"_parent\"><img src=\"https://colab.research.google.com/assets/colab-badge.svg\" alt=\"Open In Colab\"/></a>"
      ]
    },
    {
      "cell_type": "code",
      "execution_count": 16,
      "metadata": {
        "colab": {
          "base_uri": "https://localhost:8080/"
        },
        "id": "BpoMwRwhiB24",
        "outputId": "0e94f798-a128-472d-c043-2c03c86ddc43"
      },
      "outputs": [
        {
          "output_type": "stream",
          "name": "stdout",
          "text": [
            "    a1   a2   a3\n",
            "0  1.0  2.0  3.0\n",
            "1  4.0  5.0  NaN\n",
            "2  3.0  NaN  2.0\n",
            "3  NaN  3.0  5.0\n",
            "4  NaN  3.0  4.0\n",
            "4\n",
            "a1    2\n",
            "a2    1\n",
            "a3    1\n",
            "dtype: int64\n"
          ]
        }
      ],
      "source": [
        "import numpy as np\n",
        "import pandas as pd\n",
        "arr = pd.DataFrame(np.array([1,2,3,4,5,np.NaN,3,np.NaN,2,np.NaN,3,5,np.NaN,3,4]).reshape(5,3))\n",
        "arr.columns = [\"a1\",\"a2\",\"a3\"]\n",
        "print(arr)\n",
        "x = arr.isnull().sum()   # for checking columns with null values\n",
        "y = arr.isnull().sum().sum()  # checking whole dataframe with null values\n",
        "print(y)\n",
        "print(x)"
      ]
    },
    {
      "cell_type": "code",
      "source": [
        "from sklearn.impute import MissingIndicator\n",
        "indicator = MissingIndicator(missing_values=np.NaN)\n",
        "indicator = indicator.fit_transform(arr)\n",
        "indicator = pd.DataFrame(indicator, columns =[\"a1\",\"a2\",\"a3\"])\n",
        "print(indicator)"
      ],
      "metadata": {
        "colab": {
          "base_uri": "https://localhost:8080/"
        },
        "id": "Oh0D_YXwkie8",
        "outputId": "4b4cfda3-4a8e-4858-b006-8043a4b27fa2"
      },
      "execution_count": 18,
      "outputs": [
        {
          "output_type": "stream",
          "name": "stdout",
          "text": [
            "      a1     a2     a3\n",
            "0  False  False  False\n",
            "1  False  False   True\n",
            "2  False   True  False\n",
            "3   True  False  False\n",
            "4   True  False  False\n"
          ]
        }
      ]
    },
    {
      "cell_type": "code",
      "source": [
        "from sklearn.impute import SimpleImputer\n",
        "imp = SimpleImputer(missing_values=np.NaN, strategy=\"median\")\n",
        "x = pd.DataFrame(imp.fit_transform(arr))\n",
        "x.columns = [\"x1\",\"x2\",\"x3\"]\n",
        "print(x)"
      ],
      "metadata": {
        "colab": {
          "base_uri": "https://localhost:8080/"
        },
        "id": "knKtXNIbl0X6",
        "outputId": "bbe51bc4-18be-4047-87e0-ca7d289bb3de"
      },
      "execution_count": 21,
      "outputs": [
        {
          "output_type": "stream",
          "name": "stdout",
          "text": [
            "    x1   x2   x3\n",
            "0  1.0  2.0  3.0\n",
            "1  4.0  5.0  3.5\n",
            "2  3.0  3.0  2.0\n",
            "3  3.0  3.0  5.0\n",
            "4  3.0  3.0  4.0\n"
          ]
        }
      ]
    }
  ]
}