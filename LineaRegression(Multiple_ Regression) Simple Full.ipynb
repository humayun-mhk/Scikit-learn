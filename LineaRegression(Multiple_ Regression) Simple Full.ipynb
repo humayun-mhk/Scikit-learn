{
  "nbformat": 4,
  "nbformat_minor": 0,
  "metadata": {
    "colab": {
      "provenance": [],
      "authorship_tag": "ABX9TyMCMQomlqOthj/CIozueeBp",
      "include_colab_link": true
    },
    "kernelspec": {
      "name": "python3",
      "display_name": "Python 3"
    },
    "language_info": {
      "name": "python"
    }
  },
  "cells": [
    {
      "cell_type": "markdown",
      "metadata": {
        "id": "view-in-github",
        "colab_type": "text"
      },
      "source": [
        "<a href=\"https://colab.research.google.com/github/humayun-mhk/Scikit-learn/blob/main/LineaRegression(Multiple_%20Regression)%20Simple%20Full.ipynb\" target=\"_parent\"><img src=\"https://colab.research.google.com/assets/colab-badge.svg\" alt=\"Open In Colab\"/></a>"
      ]
    },
    {
      "cell_type": "code",
      "execution_count": 16,
      "metadata": {
        "colab": {
          "base_uri": "https://localhost:8080/"
        },
        "id": "vMnZSiak3CPw",
        "outputId": "f18d358b-6461-402f-f718-40a4a8921c8a"
      },
      "outputs": [
        {
          "output_type": "stream",
          "name": "stdout",
          "text": [
            "Intercept  [69.86405838]\n",
            "Coefficent  [[11.40780137  6.29737898  8.40060904]]\n",
            "score (R^2) 0.8331944938400674\n"
          ]
        }
      ],
      "source": [
        "import pandas as pd\n",
        "import numpy as np\n",
        "path= \"https://cf-courses-data.s3.us.cloud-object-storage.appdomain.cloud/IBMDeveloperSkillsNetwork-ML0101EN-SkillsNetwork/labs/Module%202/data/FuelConsumptionCo2.csv\"\n",
        "data = pd.read_csv(path)\n",
        "train = pd.DataFrame(data)\n",
        "\n",
        "from sklearn import linear_model\n",
        "from sklearn.model_selection import train_test_split\n",
        "\n",
        "# Split dataset into training and testing sets\n",
        "train, test = train_test_split(data, test_size= 20)\n",
        "\n",
        "# Initialize the linear regression model\n",
        "regr = linear_model.LinearRegression()\n",
        "\n",
        "# Select features and target variable\n",
        "train_x = train[[\"ENGINESIZE\", \"CYLINDERS\",\"FUELCONSUMPTION_CITY\" ]]\n",
        "train_y = train[[\"CO2EMISSIONS\"]]\n",
        "test_x = test[[\"ENGINESIZE\", \"CYLINDERS\",\"FUELCONSUMPTION_CITY\" ]]\n",
        "test_y = test[[\"CO2EMISSIONS\"]]\n",
        "\n",
        "# Train the model\n",
        "regr.fit(train_x,train_y)\n",
        "\n",
        "# Print intercept and coefficients\n",
        "print(\"Intercept \" , regr.intercept_)\n",
        "print(\"Coefficent \", regr.coef_)\n",
        "\n",
        "# Predict on test data\n",
        "y_hat = regr.predict(test_x)\n",
        "\n",
        "# Evaluate the model\n",
        "print(\"Residual sum of squares: %.2f\" % np.mean((y_hat - test_y) ** 2))\n",
        "print(\"Variance score (R²): %.2f\" % regr.score(test_x, test_y))\n",
        "\n",
        "print(\"score (R^2)\", regr.score(test_x,test_y))"
      ]
    }
  ]
}