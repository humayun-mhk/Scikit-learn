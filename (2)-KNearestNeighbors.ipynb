{
  "nbformat": 4,
  "nbformat_minor": 0,
  "metadata": {
    "colab": {
      "provenance": [],
      "authorship_tag": "ABX9TyN0ItSnY3U3KmaE0RlZBfjO",
      "include_colab_link": true
    },
    "kernelspec": {
      "name": "python3",
      "display_name": "Python 3"
    },
    "language_info": {
      "name": "python"
    }
  },
  "cells": [
    {
      "cell_type": "markdown",
      "metadata": {
        "id": "view-in-github",
        "colab_type": "text"
      },
      "source": [
        "<a href=\"https://colab.research.google.com/github/humayun-mhk/Scikit-learn/blob/main/(2)-KNearestNeighbors.ipynb\" target=\"_parent\"><img src=\"https://colab.research.google.com/assets/colab-badge.svg\" alt=\"Open In Colab\"/></a>"
      ]
    },
    {
      "cell_type": "code",
      "execution_count": 5,
      "metadata": {
        "colab": {
          "base_uri": "https://localhost:8080/"
        },
        "id": "gJOM4HRMmpfO",
        "outputId": "956998e9-ed86-4de1-cdf9-2298c73cf12c"
      },
      "outputs": [
        {
          "output_type": "stream",
          "name": "stdout",
          "text": [
            "Train set shape: (980, 11) (980, 1)\n",
            "Test set shape: (20, 11) (20, 1)\n",
            "First 5 predictions: [2 1 3 1 4 4 3 1 4 2 1 1 4 1 3 1 2 2 3 2]\n",
            "    custcat\n",
            "0         1\n",
            "1         4\n",
            "2         3\n",
            "3         1\n",
            "4         3\n",
            "5         3\n",
            "6         2\n",
            "7         4\n",
            "8         3\n",
            "9         2\n",
            "10        1\n",
            "11        3\n",
            "12        1\n",
            "13        4\n",
            "14        1\n",
            "15        2\n",
            "16        3\n",
            "17        3\n",
            "18        1\n",
            "19        4\n",
            "20        2\n",
            "21        1\n",
            "22        4\n",
            "23        1\n",
            "24        3\n",
            "25        3\n",
            "26        4\n",
            "27        3\n",
            "28        1\n",
            "29        2\n",
            "30        2\n",
            "31        4\n",
            "32        3\n",
            "33        2\n",
            "34        4\n",
            "35        2\n",
            "36        4\n",
            "37        3\n",
            "38        3\n",
            "39        3\n",
            "40        3\n",
            "41        3\n",
            "42        1\n",
            "43        4\n",
            "44        3\n",
            "45        2\n",
            "46        2\n",
            "47        4\n",
            "48        1\n",
            "49        3\n",
            "Train Set Accuracy: 0.5510204081632653\n",
            "Test Set Accuracy: 0.45\n"
          ]
        },
        {
          "output_type": "stream",
          "name": "stderr",
          "text": [
            "/usr/local/lib/python3.11/dist-packages/sklearn/neighbors/_classification.py:239: DataConversionWarning: A column-vector y was passed when a 1d array was expected. Please change the shape of y to (n_samples,), for example using ravel().\n",
            "  return self._fit(X, y)\n"
          ]
        }
      ],
      "source": [
        "# Import necessary libraries\n",
        "import pandas as pd\n",
        "from sklearn.model_selection import train_test_split\n",
        "from sklearn.neighbors import KNeighborsClassifier\n",
        "from sklearn import metrics\n",
        "\n",
        "# Step 1: Load the dataset\n",
        "path = \"https://cf-courses-data.s3.us.cloud-object-storage.appdomain.cloud/IBMDeveloperSkillsNetwork-ML0101EN-SkillsNetwork/labs/Module%203/data/teleCust1000t.csv\"\n",
        "data = pd.read_csv(path)  # Load data from the provided URL\n",
        "\n",
        "# Step 2: Prepare features (X) and target (Y)\n",
        "X = data[[\"region\", \"tenure\", \"age\", \"marital\", \"address\", \"income\", \"ed\", \"employ\", \"retire\", \"gender\", \"reside\"]]  # Features\n",
        "Y = data[[\"custcat\"]]  # Target variable\n",
        "\n",
        "# Step 3: Split the data into training and testing sets\n",
        "X_train, X_test, Y_train, Y_test = train_test_split(X, Y, test_size=20, random_state=4)  # 20 samples for testing\n",
        "print(\"Train set shape:\", X_train.shape, Y_train.shape)  # Print shapes of training set\n",
        "print(\"Test set shape:\", X_test.shape, Y_test.shape)  # Print shapes of test set\n",
        "\n",
        "# Step 4: Train the k-Nearest Neighbors (k-NN) model\n",
        "k = 4  # Number of neighbors\n",
        "neigh = KNeighborsClassifier(n_neighbors=k).fit(X_train, Y_train)  # Train the model\n",
        "\n",
        "# Step 5: Make predictions on the test set\n",
        "yhat = neigh.predict(X_test)  # Predict using the test set\n",
        "print(\"First 5 predictions:\", yhat[0:50])  # Display the first 5 predictions\n",
        "\n",
        "print(Y[0:50])\n",
        "# Step 6: Evaluate the model's performance\n",
        "train_accuracy = metrics.accuracy_score(Y_train, neigh.predict(X_train))  # Accuracy on training set\n",
        "test_accuracy = metrics.accuracy_score(Y_test, yhat)  # Accuracy on test set\n",
        "print(\"Train Set Accuracy:\", train_accuracy)  # Print training accuracy\n",
        "print(\"Test Set Accuracy:\", test_accuracy)  # Print test accuracy"
      ]
    }
  ]
}