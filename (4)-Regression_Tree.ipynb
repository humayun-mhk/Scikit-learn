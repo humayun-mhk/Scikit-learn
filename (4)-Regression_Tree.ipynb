{
  "nbformat": 4,
  "nbformat_minor": 0,
  "metadata": {
    "colab": {
      "provenance": [],
      "authorship_tag": "ABX9TyMgVTzVZBRQz63JIIbreyF8",
      "include_colab_link": true
    },
    "kernelspec": {
      "name": "python3",
      "display_name": "Python 3"
    },
    "language_info": {
      "name": "python"
    }
  },
  "cells": [
    {
      "cell_type": "markdown",
      "metadata": {
        "id": "view-in-github",
        "colab_type": "text"
      },
      "source": [
        "<a href=\"https://colab.research.google.com/github/humayun-mhk/Scikit-learn/blob/main/(4)-Regression_Tree.ipynb\" target=\"_parent\"><img src=\"https://colab.research.google.com/assets/colab-badge.svg\" alt=\"Open In Colab\"/></a>"
      ]
    },
    {
      "cell_type": "markdown",
      "source": [
        "Regression Tree"
      ],
      "metadata": {
        "id": "2uaYJXSgV83u"
      }
    },
    {
      "cell_type": "code",
      "execution_count": 1,
      "metadata": {
        "colab": {
          "base_uri": "https://localhost:8080/"
        },
        "id": "0S5GP5gUJnCD",
        "outputId": "af02675e-38c5-42e1-b5bc-5b50bd039e45"
      },
      "outputs": [
        {
          "output_type": "stream",
          "name": "stdout",
          "text": [
            "CRIM       0\n",
            "ZN         0\n",
            "INDUS      0\n",
            "CHAS       0\n",
            "NOX        0\n",
            "RM         0\n",
            "AGE        0\n",
            "DIS        0\n",
            "RAD        0\n",
            "TAX        0\n",
            "PTRATIO    0\n",
            "LSTAT      0\n",
            "MEDV       0\n",
            "dtype: int64\n",
            "Model Score: 0.8594960438963241\n",
            "[29.6 23.3 14.9 13.4 43.1 42.3 26.6 20.  26.6 16.8 14.3 19.4  9.6 45.4\n",
            " 14.9 25.3 19.9 25.  15.  24.1 30.1 17.4 13.8 21.4 15.   5.  19.3  5.\n",
            " 23.6 22.8 12.6 20.  25.  19.7 33.4 20.  45.4 11.3 33.2 13.1 34.9 23.\n",
            " 13.8 17.8 16.2 45.4 18.8 25.  24.3 19.5 21.7 24.8 23.9 22.6  6.3 26.7\n",
            "  7.5 19.6 13.5 16.3 10.9 22.2 34.7 18.7 32.  32.  10.9 20.4 12.1 14.4\n",
            " 28.1 43.1 15.  21.4 13.1 10.9 19.1 19.5 19.7]\n",
            "$ 2735.4430379746836\n"
          ]
        }
      ],
      "source": [
        "import pandas as pd\n",
        "from sklearn.model_selection import train_test_split\n",
        "from sklearn.tree import DecisionTreeRegressor\n",
        "\n",
        "# Load the data\n",
        "URL = \"https://cf-courses-data.s3.us.cloud-object-storage.appdomain.cloud/IBMDeveloperSkillsNetwork-ML0101EN-SkillsNetwork/labs/Module%203/data/real_estate_data.csv\"\n",
        "data = pd.read_csv(URL)\n",
        "\n",
        "# Create a DataFrame and drop missing values\n",
        "data_1 = pd.DataFrame(data)\n",
        "data_1.dropna(inplace=True)\n",
        "\n",
        "# Check for missing values\n",
        "print(data_1.isna().sum())\n",
        "\n",
        "# Define features (X) and target (Y)\n",
        "X = data_1.drop(columns=[\"MEDV\"])\n",
        "Y = data_1[\"MEDV\"]\n",
        "\n",
        "# Split the data into training and testing sets\n",
        "X_train, X_test, Y_train, Y_test = train_test_split(X, Y, test_size=0.2, random_state=1)\n",
        "\n",
        "# Initialize the DecisionTreeRegressor with 'absolute_error' criterion\n",
        "regression_tree = DecisionTreeRegressor(criterion=\"absolute_error\")\n",
        "regression_tree.fit(X_train, Y_train)\n",
        "\n",
        "# Evaluate the model\n",
        "score = regression_tree.score(X_test, Y_test)\n",
        "print(\"Model Score:\", score)\n",
        "\n",
        "# Make predictions\n",
        "prediction = regression_tree.predict(X_test)\n",
        "print(prediction)\n",
        "# Calculate the mean absolute error in dollars\n",
        "mae = (prediction - Y_test).abs().mean() * 1000\n",
        "print(\"$\", mae)"
      ]
    },
    {
      "cell_type": "markdown",
      "source": [],
      "metadata": {
        "id": "9DmneDd0V4oJ"
      }
    }
  ]
}